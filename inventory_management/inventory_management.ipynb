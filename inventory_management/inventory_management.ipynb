{
 "cells": [
  {
   "cell_type": "code",
   "execution_count": 1,
   "metadata": {},
   "outputs": [],
   "source": [
    "import pandas as pd"
   ]
  },
  {
   "cell_type": "code",
   "execution_count": 2,
   "metadata": {},
   "outputs": [],
   "source": [
    "def data_col(cafe, nos, mat):\n",
    "    cafe24 = pd.read_csv(cafe)\n",
    "    nosnos = pd.read_excel(nos)\n",
    "    matching = pd.read_excel(mat)\n",
    "\n",
    "    return cafe24, nosnos, matching"
   ]
  },
  {
   "cell_type": "code",
   "execution_count": 3,
   "metadata": {},
   "outputs": [],
   "source": [
    "def collect(cafe24, nosnos, matching)\n",
    "    cafe24_item_code = []\n",
    "    nosnos_product_code = []\n",
    "    supplier_name = []\n",
    "    cafe24_product_name = []\n",
    "    nosnos_product_name = []\n",
    "    cafe24_stock_quantity = []\n",
    "    cafe24_safety_stock = []\n",
    "    nosnos_real_time_available_stock = []\n",
    "\n",
    "    for i in range(len(matching)):\n",
    "\n",
    "\n",
    "        if type(matching['cafe_code'][i]) == float:\n",
    "            cafe24_item_code.append(0)\n",
    "            nosnos_product_code.append(nosnos[nosnos['상품코드'].str.contains(matching.loc[i, 'nosnos_code'])]['상품코드'].values[0])\n",
    "            supplier_name.append(nosnos[nosnos['상품코드'].str.contains(matching.loc[i, 'nosnos_code'])]['공급사명'].values[0])\n",
    "            cafe24_product_name.append(0)\n",
    "            nosnos_product_name.append(nosnos[nosnos['상품코드'].str.contains(matching.loc[i, 'nosnos_code'])]['출고상품명'].values[0])\n",
    "            cafe24_stock_quantity.append(0)\n",
    "            cafe24_safety_stock.append(0)\n",
    "            nosnos_real_time_available_stock.append(nosnos[nosnos['상품코드'].str.contains(matching.loc[i, 'nosnos_code'])]['실시간 가용재고'].values[0])\n",
    "        else:\n",
    "            try:\n",
    "                cafe24_item_code.append(cafe24[cafe24['품목코드'].str.contains(matching.loc[i, 'cafe_code'])]['품목코드'].values[0])\n",
    "                nosnos_product_code.append(nosnos[nosnos['상품코드'].str.contains(matching.loc[i, 'nosnos_code'])]['상품코드'].values[0])\n",
    "                supplier_name.append(nosnos[nosnos['상품코드'].str.contains(matching.loc[i, 'nosnos_code'])]['공급사명'].values[0])\n",
    "                cafe24_product_name.append(cafe24[cafe24['품목코드'].str.contains(matching.loc[i, 'cafe_code'])]['상품명'].values[0])\n",
    "                nosnos_product_name.append(nosnos[nosnos['상품코드'].str.contains(matching.loc[i, 'nosnos_code'])]['출고상품명'].values[0])\n",
    "                cafe24_stock_quantity.append(cafe24[cafe24['품목코드'].str.contains(matching.loc[i, 'cafe_code'])]['재고수량'].values[0])\n",
    "                cafe24_safety_stock.append(cafe24[cafe24['품목코드'].str.contains(matching.loc[i, 'cafe_code'])]['안전재고'].values[0])\n",
    "                nosnos_real_time_available_stock.append(nosnos[nosnos['상품코드'].str.contains(matching.loc[i, 'nosnos_code'])]['실시간 가용재고'].values[0])\n",
    "            except:\n",
    "                pass\n",
    "\n",
    "    data = {\n",
    "        '카페24 품목코드': cafe24_item_code,\n",
    "        'nosnos 상품코드': nosnos_product_code,\n",
    "        '공급사명': supplier_name,\n",
    "        '카페24 상품명': cafe24_product_name,\n",
    "        'nosnos 상품명': nosnos_product_name,\n",
    "        '카페24 재고수량': cafe24_stock_quantity,\n",
    "        '카페24 안전재고': cafe24_safety_stock,\n",
    "        'nosnos 실시간가용재고': nosnos_real_time_available_stock\n",
    "    }\n",
    "\n",
    "\n",
    "    result = pd.DataFrame(data)\n",
    "\n",
    "    # 데이터프레임을 엑셀 파일로 저장\n",
    "    result.to_excel('result.xlsx', index=False)  # index=False로 설정하면 인덱스를 엑셀에 저장하지 않습니다."
   ]
  }
 ],
 "metadata": {
  "kernelspec": {
   "display_name": "Python 3",
   "language": "python",
   "name": "python3"
  },
  "language_info": {
   "codemirror_mode": {
    "name": "ipython",
    "version": 3
   },
   "file_extension": ".py",
   "mimetype": "text/x-python",
   "name": "python",
   "nbconvert_exporter": "python",
   "pygments_lexer": "ipython3",
   "version": "3.11.1"
  }
 },
 "nbformat": 4,
 "nbformat_minor": 2
}
